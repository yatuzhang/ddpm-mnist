{
  "cells": [
    {
      "cell_type": "markdown",
      "metadata": {},
      "source": [
        "# DDPM Training on Google Colab\n",
        "\n",
        "This notebook trains a DDPM model on MNIST using GPU acceleration.\n"
      ]
    },
    {
      "cell_type": "code",
      "execution_count": null,
      "metadata": {},
      "outputs": [],
      "source": [
        "# Install dependencies\n",
        "!pip install denoising_diffusion_pytorch torch torchvision matplotlib tqdm\n",
        "\n",
        "# Check GPU availability\n",
        "import torch\n",
        "print(f\"CUDA available: {torch.cuda.is_available()}\")\n",
        "if torch.cuda.is_available():\n",
        "    print(f\"GPU: {torch.cuda.get_device_name(0)}\")\n",
        "    print(f\"GPU Memory: {torch.cuda.get_device_properties(0).total_memory / 1e9:.1f} GB\")\n"
      ]
    },
    {
      "cell_type": "code",
      "execution_count": null,
      "metadata": {},
      "outputs": [],
      "source": [
        "# Clone your repository\n",
        "!git clone https://github.com/yatuzhang/ddpm-mnist.git\n",
        "%cd ddpm-mnist\n",
        "\n",
        "# List files to verify\n",
        "!ls -la\n"
      ]
    },
    {
      "cell_type": "code",
      "execution_count": null,
      "metadata": {},
      "outputs": [],
      "source": [
        "# Run training with GPU acceleration\n",
        "!python train_ddp.py --epochs 50 --batch_size 128 --save_freq 5\n"
      ]
    },
    {
      "cell_type": "code",
      "execution_count": null,
      "metadata": {},
      "outputs": [],
      "source": [
        "# Run the demo to generate samples\n",
        "!python demo_ddpm.py\n"
      ]
    },
    {
      "cell_type": "code",
      "execution_count": null,
      "metadata": {},
      "outputs": [],
      "source": [
        "# Download results\n",
        "from google.colab import files\n",
        "import zipfile\n",
        "import os\n",
        "\n",
        "# Create zip file with results\n",
        "with zipfile.ZipFile('ddpm_results.zip', 'w') as zipf:\n",
        "    for root, dirs, files in os.walk('.'):\n",
        "        for file in files:\n",
        "            if file.endswith(('.png', '.pth', '.json')):\n",
        "                zipf.write(os.path.join(root, file))\n",
        "\n",
        "# Download the zip file\n",
        "files.download('ddpm_results.zip')\n"
      ]
    }
  ],
  "metadata": {
    "language_info": {
      "name": "python"
    }
  },
  "nbformat": 4,
  "nbformat_minor": 2
}
